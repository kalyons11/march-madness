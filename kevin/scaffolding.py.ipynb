{
 "cells": [
  {
   "cell_type": "markdown",
   "metadata": {
    "toc": true
   },
   "source": [
    "<h1>Table of Contents<span class=\"tocSkip\"></span></h1>\n",
    "<div class=\"toc\" style=\"margin-top: 1em;\"><ul class=\"toc-item\"></ul></div>"
   ]
  },
  {
   "cell_type": "code",
   "execution_count": 7,
   "metadata": {
    "collapsed": true
   },
   "outputs": [],
   "source": [
    "class FeatureGenerator:\n",
    "    \"\"\"This class generates feature vectors for specific teams in specific seasons.\"\"\"\n",
    "    def __init__(self, team_id, year):\n",
    "        pass\n",
    "    \n",
    "    def get_vector(self):\n",
    "        pass\n",
    "\n",
    "\n",
    "class Predictor:\n",
    "    \"\"\"Takes in a particular year and produces all predictions for that year, using combinations of every 2 teams.\"\"\"\n",
    "    def __init__(self, year):\n",
    "        pass\n",
    "    \n",
    "    def run(self):\n",
    "        \"\"\"Return a table of [game_id, team a, team b, prediction].\"\"\"\n",
    "        pass\n",
    "    \n",
    "    def run_game(self, team_a, team_b):\n",
    "        pass\n",
    "\n",
    "\n",
    "class DataLoader:\n",
    "    \"\"\"Aggregates data into a useful format for analysis.\"\"\"\n",
    "    def __init__(self):\n",
    "        pass\n",
    "\n",
    "    def aggregate_all_data(self):\n",
    "        pass\n",
    "    \n",
    "    def load_team_data(self, team, year):\n",
    "        pass\n",
    "    \n",
    "    # Functions to split data in training and validation sets\n",
    "    # Functions to test model on data\n",
    "\n",
    "\n",
    "class PredictionModel:\n",
    "    \"\"\"Describes the model we are using to predict game winners.\"\"\"\n",
    "    # type\n",
    "    # list of features\n",
    "    pass\n",
    "\n",
    "    # methods to train, validate, test\n",
    "    # compute features"
   ]
  }
 ],
 "metadata": {
  "kernelspec": {
   "display_name": "Python3.6 (py3.6env)",
   "language": "python",
   "name": "env36"
  },
  "language_info": {
   "codemirror_mode": {
    "name": "ipython",
    "version": 3
   },
   "file_extension": ".py",
   "mimetype": "text/x-python",
   "name": "python",
   "nbconvert_exporter": "python",
   "pygments_lexer": "ipython3",
   "version": "3.6.4"
  },
  "toc": {
   "nav_menu": {},
   "number_sections": true,
   "sideBar": true,
   "skip_h1_title": false,
   "toc_cell": true,
   "toc_position": {},
   "toc_section_display": "block",
   "toc_window_display": false
  }
 },
 "nbformat": 4,
 "nbformat_minor": 2
}
