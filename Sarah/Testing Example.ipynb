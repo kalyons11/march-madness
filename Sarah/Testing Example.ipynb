{
 "cells": [
  {
   "cell_type": "code",
   "execution_count": 14,
   "metadata": {
    "collapsed": true
   },
   "outputs": [],
   "source": [
    "import sys; sys.path.append('..')"
   ]
  },
  {
   "cell_type": "code",
   "execution_count": 15,
   "metadata": {
    "collapsed": true
   },
   "outputs": [],
   "source": [
    "from classes import *"
   ]
  },
  {
   "cell_type": "code",
   "execution_count": 16,
   "metadata": {
    "collapsed": true
   },
   "outputs": [],
   "source": [
    "def feature_score_func(dataframe):\n",
    "    return dataframe['score'].mean() # returns the mean score"
   ]
  },
  {
   "cell_type": "code",
   "execution_count": 17,
   "metadata": {
    "collapsed": true
   },
   "outputs": [],
   "source": [
    "feature_off = Feature('offensive rebounds', lambda dataframe: dataframe['or'].mean())"
   ]
  },
  {
   "cell_type": "code",
   "execution_count": 18,
   "metadata": {
    "collapsed": true
   },
   "outputs": [],
   "source": [
    "feature_fgm = Feature('field goals made', lambda dataframe: dataframe['fgm'].mean())\n",
    "feature_to = Feature('turnovers per game', lambda dataframe: dataframe['to'].mean())\n",
    "feature_score = Feature('score per game', lambda dataframe: dataframe['score'].mean())\n",
    "#feature_foul = Feature('personal fouls', lambda dataframe: dataframe['pf'].mean())"
   ]
  },
  {
   "cell_type": "code",
   "execution_count": 22,
   "metadata": {
    "collapsed": true
   },
   "outputs": [],
   "source": [
    "model = Model('my_model',[feature_score, feature_fgm,  feature_off ], \"LogisticRegression\")"
   ]
  },
  {
   "cell_type": "code",
   "execution_count": 23,
   "metadata": {
    "collapsed": true
   },
   "outputs": [],
   "source": [
    "trainer = Trainer(model)"
   ]
  },
  {
   "cell_type": "code",
   "execution_count": 24,
   "metadata": {},
   "outputs": [
    {
     "ename": "TypeError",
     "evalue": "<lambda>() takes 1 positional argument but 3 were given",
     "output_type": "error",
     "traceback": [
      "\u001b[0;31m---------------------------------------------------------------------------\u001b[0m",
      "\u001b[0;31mTypeError\u001b[0m                                 Traceback (most recent call last)",
      "\u001b[0;32m<ipython-input-24-3287ea1d3afc>\u001b[0m in \u001b[0;36m<module>\u001b[0;34m()\u001b[0m\n\u001b[0;32m----> 1\u001b[0;31m \u001b[0mtrainer\u001b[0m\u001b[0;34m.\u001b[0m\u001b[0mrun\u001b[0m\u001b[0;34m(\u001b[0m\u001b[0;34m)\u001b[0m\u001b[0;34m\u001b[0m\u001b[0m\n\u001b[0m",
      "\u001b[0;32m/Users/sarahantiles/Dropbox/My_Work_Folder/15.053/march-madness/classes/trainer.py\u001b[0m in \u001b[0;36mrun\u001b[0;34m(self)\u001b[0m\n\u001b[1;32m     11\u001b[0m     \u001b[0;32mdef\u001b[0m \u001b[0mrun\u001b[0m\u001b[0;34m(\u001b[0m\u001b[0mself\u001b[0m\u001b[0;34m)\u001b[0m\u001b[0;34m:\u001b[0m\u001b[0;34m\u001b[0m\u001b[0m\n\u001b[1;32m     12\u001b[0m         \u001b[0;34m\"\"\"trains and returns eval result\"\"\"\u001b[0m\u001b[0;34m\u001b[0m\u001b[0m\n\u001b[0;32m---> 13\u001b[0;31m         \u001b[0;32mreturn\u001b[0m \u001b[0mself\u001b[0m\u001b[0;34m.\u001b[0m\u001b[0mmodel\u001b[0m\u001b[0;34m.\u001b[0m\u001b[0mtrain\u001b[0m\u001b[0;34m(\u001b[0m\u001b[0;34m)\u001b[0m\u001b[0;34m\u001b[0m\u001b[0m\n\u001b[0m",
      "\u001b[0;32m/Users/sarahantiles/Dropbox/My_Work_Folder/15.053/march-madness/classes/model.py\u001b[0m in \u001b[0;36mtrain\u001b[0;34m(self, trainer)\u001b[0m\n\u001b[1;32m     76\u001b[0m         \u001b[0;31m# Need to do the following:\u001b[0m\u001b[0;34m\u001b[0m\u001b[0;34m\u001b[0m\u001b[0m\n\u001b[1;32m     77\u001b[0m         \u001b[0;31m# 1. Parse data\u001b[0m\u001b[0;34m\u001b[0m\u001b[0;34m\u001b[0m\u001b[0m\n\u001b[0;32m---> 78\u001b[0;31m         \u001b[0mX\u001b[0m\u001b[0;34m,\u001b[0m \u001b[0my\u001b[0m \u001b[0;34m=\u001b[0m \u001b[0mself\u001b[0m\u001b[0;34m.\u001b[0m\u001b[0mget_X_y\u001b[0m\u001b[0;34m(\u001b[0m\u001b[0mtrainer\u001b[0m\u001b[0;34m)\u001b[0m\u001b[0;34m\u001b[0m\u001b[0m\n\u001b[0m\u001b[1;32m     79\u001b[0m         \u001b[0;31m# 2. Split data\u001b[0m\u001b[0;34m\u001b[0m\u001b[0;34m\u001b[0m\u001b[0m\n\u001b[1;32m     80\u001b[0m         X_train, X_test, y_train, y_test = train_test_split(\n",
      "\u001b[0;32m/Users/sarahantiles/Dropbox/My_Work_Folder/15.053/march-madness/classes/model.py\u001b[0m in \u001b[0;36mget_X_y\u001b[0;34m(self, trainer)\u001b[0m\n\u001b[1;32m     60\u001b[0m         \u001b[0;32mfor\u001b[0m \u001b[0mresult\u001b[0m \u001b[0;32min\u001b[0m \u001b[0mdata_raw\u001b[0m\u001b[0;34m:\u001b[0m\u001b[0;34m\u001b[0m\u001b[0m\n\u001b[1;32m     61\u001b[0m             vect_a = self.get_vector(result.season, result.winner,\n\u001b[0;32m---> 62\u001b[0;31m                                      result.loser, trainer.dm)\n\u001b[0m\u001b[1;32m     63\u001b[0m             vect_b = self.get_vector(result.season, result.loser,\n\u001b[1;32m     64\u001b[0m                                      result.winner, trainer.dm)\n",
      "\u001b[0;32m/Users/sarahantiles/Dropbox/My_Work_Folder/15.053/march-madness/classes/model.py\u001b[0m in \u001b[0;36mget_vector\u001b[0;34m(self, season, team, other, dm)\u001b[0m\n\u001b[1;32m     50\u001b[0m         \u001b[0mresult\u001b[0m \u001b[0;34m=\u001b[0m \u001b[0;34m{\u001b[0m\u001b[0;34m}\u001b[0m\u001b[0;34m\u001b[0m\u001b[0m\n\u001b[1;32m     51\u001b[0m         \u001b[0;32mfor\u001b[0m \u001b[0mf\u001b[0m \u001b[0;32min\u001b[0m \u001b[0mself\u001b[0m\u001b[0;34m.\u001b[0m\u001b[0mfeatures\u001b[0m\u001b[0;34m:\u001b[0m\u001b[0;34m\u001b[0m\u001b[0m\n\u001b[0;32m---> 52\u001b[0;31m             \u001b[0mresult\u001b[0m\u001b[0;34m[\u001b[0m\u001b[0mf\u001b[0m\u001b[0;34m]\u001b[0m \u001b[0;34m=\u001b[0m \u001b[0mf\u001b[0m\u001b[0;34m.\u001b[0m\u001b[0mcompute\u001b[0m\u001b[0;34m(\u001b[0m\u001b[0mdm\u001b[0m\u001b[0;34m,\u001b[0m \u001b[0mteam\u001b[0m\u001b[0;34m,\u001b[0m \u001b[0mGameContext\u001b[0m\u001b[0;34m(\u001b[0m\u001b[0mteam\u001b[0m\u001b[0;34m,\u001b[0m \u001b[0mother\u001b[0m\u001b[0;34m,\u001b[0m \u001b[0mseason\u001b[0m\u001b[0;34m)\u001b[0m\u001b[0;34m)\u001b[0m\u001b[0;34m\u001b[0m\u001b[0m\n\u001b[0m\u001b[1;32m     53\u001b[0m         \u001b[0;32mreturn\u001b[0m \u001b[0mFeatureVector\u001b[0m\u001b[0;34m(\u001b[0m\u001b[0mresult\u001b[0m\u001b[0;34m)\u001b[0m\u001b[0;34m\u001b[0m\u001b[0m\n\u001b[1;32m     54\u001b[0m \u001b[0;34m\u001b[0m\u001b[0m\n",
      "\u001b[0;32m/Users/sarahantiles/Dropbox/My_Work_Folder/15.053/march-madness/classes/feature.py\u001b[0m in \u001b[0;36mcompute\u001b[0;34m(self, dm, team, context)\u001b[0m\n\u001b[1;32m     13\u001b[0m \u001b[0;34m\u001b[0m\u001b[0m\n\u001b[1;32m     14\u001b[0m     \u001b[0;32mdef\u001b[0m \u001b[0mcompute\u001b[0m\u001b[0;34m(\u001b[0m\u001b[0mself\u001b[0m\u001b[0;34m,\u001b[0m \u001b[0mdm\u001b[0m\u001b[0;34m,\u001b[0m \u001b[0mteam\u001b[0m\u001b[0;34m,\u001b[0m \u001b[0mcontext\u001b[0m\u001b[0;34m)\u001b[0m\u001b[0;34m:\u001b[0m\u001b[0;34m\u001b[0m\u001b[0m\n\u001b[0;32m---> 15\u001b[0;31m         \u001b[0;32mreturn\u001b[0m \u001b[0mself\u001b[0m\u001b[0;34m.\u001b[0m\u001b[0mfunc\u001b[0m\u001b[0;34m(\u001b[0m\u001b[0mdm\u001b[0m\u001b[0;34m,\u001b[0m \u001b[0mteam\u001b[0m\u001b[0;34m,\u001b[0m \u001b[0mcontext\u001b[0m\u001b[0;34m,\u001b[0m \u001b[0;34m**\u001b[0m\u001b[0mself\u001b[0m\u001b[0;34m.\u001b[0m\u001b[0mkwargs\u001b[0m\u001b[0;34m)\u001b[0m\u001b[0;34m\u001b[0m\u001b[0m\n\u001b[0m\u001b[1;32m     16\u001b[0m \u001b[0;34m\u001b[0m\u001b[0m\n\u001b[1;32m     17\u001b[0m     \u001b[0;32mdef\u001b[0m \u001b[0m__str__\u001b[0m\u001b[0;34m(\u001b[0m\u001b[0mself\u001b[0m\u001b[0;34m)\u001b[0m\u001b[0;34m:\u001b[0m\u001b[0;34m\u001b[0m\u001b[0m\n",
      "\u001b[0;31mTypeError\u001b[0m: <lambda>() takes 1 positional argument but 3 were given"
     ]
    }
   ],
   "source": [
    "trainer.run()"
   ]
  },
  {
   "cell_type": "code",
   "execution_count": 4,
   "metadata": {},
   "outputs": [
    {
     "name": "stderr",
     "output_type": "stream",
     "text": [
      "../classes/data_manager.py:52: UserWarning: Boolean Series key will be reindexed to match DataFrame index.\n",
      "  reg.Lteam == team.team_id)]\n"
     ]
    }
   ],
   "source": [
    "\"\"\"Simple test script.\n",
    "\"\"\"\n",
    "\n",
    "import sys\n",
    "sys.path.append('..')\n",
    "\n",
    "from classes import *\n",
    "\n",
    "\n",
    "def f1_func(dm, team, context, **kwargs):\n",
    "    # Filter\n",
    "    filt = dm.get_team_in_season(context.season, team)\n",
    "\n",
    "    # Return std score\n",
    "    return filt['score'].std()\n",
    "\n",
    "\n",
    "def f2_func(dm, team, context, **kwargs):\n",
    "    # Filter\n",
    "    filt = dm.get_team_in_season(context.season, team)\n",
    "\n",
    "    # Return mean fta\n",
    "    return filt['fta'].mean()\n",
    "\n",
    "\n",
    "def f3_func(dm, team, context, **kwargs):\n",
    "    # Get the other team\n",
    "    me = team.team_id\n",
    "    other = context.other.team_id\n",
    "\n",
    "    # Get all games where these 2 teams have played\n",
    "    reg = dm.data.reg\n",
    "    filt = reg[((reg.Wteam == me) & (reg.Lteam == other)) |\n",
    "               ((reg.Lteam == me) & (reg.Wteam == other))]\n",
    "\n",
    "    if filt.shape[0] == 0:\n",
    "        return 0\n",
    "\n",
    "    filt_win = filt[filt.Wteam == me]\n",
    "    filt_win_mean = 0 if filt_win.shape[0] == 0 else filt_win['Wscore'].mean()\n",
    "\n",
    "    filt_lose = filt[filt.Lteam == me]\n",
    "    filt_lose_mean = 0 if filt_lose.shape[0] == 0 else filt_lose['Lscore'].mean()\n",
    "\n",
    "    return filt_win_mean - filt_lose_mean\n",
    "\n",
    "\n",
    "def main():\n",
    "    # Create features\n",
    "    f1 = Feature('test', f1_func, key='value')\n",
    "    f2 = Feature('test_again', f2_func)\n",
    "    f3 = Feature('omg', f3_func)\n",
    "\n",
    "    # Create model\n",
    "    m = Model('base', [f1, f2, f3], \"LogisticRegression\")\n",
    "\n",
    "    # Create trainer and run\n",
    "    t = Trainer(m)\n",
    "    result = t.run()\n",
    "    return result\n",
    "    #import pdb; pdb.set_trace()\n",
    "\n",
    "\n",
    "if __name__ == '__main__':\n",
    "    main()"
   ]
  },
  {
   "cell_type": "code",
   "execution_count": 11,
   "metadata": {},
   "outputs": [
    {
     "name": "stderr",
     "output_type": "stream",
     "text": [
      "../classes/data_manager.py:52: UserWarning: Boolean Series key will be reindexed to match DataFrame index.\n",
      "  reg.Lteam == team.team_id)]\n"
     ]
    },
    {
     "data": {
      "text/plain": [
       "'             precision    recall  f1-score   support\\n\\n          0       0.53      0.46      0.50       149\\n          1       0.49      0.56      0.52       137\\n\\navg / total       0.51      0.51      0.51       286\\n'"
      ]
     },
     "execution_count": 11,
     "metadata": {},
     "output_type": "execute_result"
    }
   ],
   "source": [
    "main()"
   ]
  },
  {
   "cell_type": "code",
   "execution_count": 12,
   "metadata": {},
   "outputs": [
    {
     "name": "stderr",
     "output_type": "stream",
     "text": [
      "../classes/data_manager.py:52: UserWarning: Boolean Series key will be reindexed to match DataFrame index.\n",
      "  reg.Lteam == team.team_id)]\n"
     ]
    },
    {
     "name": "stdout",
     "output_type": "stream",
     "text": [
      "             precision    recall  f1-score   support\n",
      "\n",
      "          0       0.53      0.46      0.50       149\n",
      "          1       0.49      0.56      0.52       137\n",
      "\n",
      "avg / total       0.51      0.51      0.51       286\n",
      "\n"
     ]
    }
   ],
   "source": [
    "print(main())"
   ]
  },
  {
   "cell_type": "code",
   "execution_count": 13,
   "metadata": {},
   "outputs": [
    {
     "name": "stderr",
     "output_type": "stream",
     "text": [
      "../classes/data_manager.py:52: UserWarning: Boolean Series key will be reindexed to match DataFrame index.\n",
      "  reg.Lteam == team.team_id)]\n"
     ]
    }
   ],
   "source": [
    "\"\"\"Simple test script.\n",
    "\"\"\"\n",
    "\n",
    "import sys\n",
    "sys.path.append('..')\n",
    "\n",
    "from classes import *\n",
    "\n",
    "\n",
    "def f1_func(dm, team, context, **kwargs):\n",
    "    # Filter\n",
    "    filt = dm.get_team_in_season(context.season, team)\n",
    "\n",
    "    # Return std score\n",
    "    return filt['or'].std()\n",
    "\n",
    "\n",
    "def f2_func(dm, team, context, **kwargs):\n",
    "    # Filter\n",
    "    filt = dm.get_team_in_season(context.season, team)\n",
    "\n",
    "    # Return mean fta\n",
    "    return filt['fgm'].mean()\n",
    "\n",
    "def f4_func(dm, team, context, **kwargs):\n",
    "    # Filter\n",
    "    filt = dm.get_team_in_season(context.season, team)\n",
    "\n",
    "    # Return mean fta\n",
    "    return filt['score'].mean()\n",
    "\n",
    "def f5_func(dm, team, context, **kwargs):\n",
    "    # Filter\n",
    "    filt = dm.get_team_in_season(context.season, team)\n",
    "\n",
    "    # Return mean fta\n",
    "    return filt['to'].mean()\n",
    "\n",
    "def f3_func(dm, team, context, **kwargs):\n",
    "    # Get the other team\n",
    "    me = team.team_id\n",
    "    other = context.other.team_id\n",
    "\n",
    "    # Get all games where these 2 teams have played\n",
    "    reg = dm.data.reg\n",
    "    filt = reg[((reg.Wteam == me) & (reg.Lteam == other)) |\n",
    "               ((reg.Lteam == me) & (reg.Wteam == other))]\n",
    "\n",
    "    if filt.shape[0] == 0:\n",
    "        return 0\n",
    "\n",
    "    filt_win = filt[filt.Wteam == me]\n",
    "    filt_win_mean = 0 if filt_win.shape[0] == 0 else filt_win['Wscore'].mean()\n",
    "\n",
    "    filt_lose = filt[filt.Lteam == me]\n",
    "    filt_lose_mean = 0 if filt_lose.shape[0] == 0 else filt_lose['Lscore'].mean()\n",
    "\n",
    "    return filt_win_mean - filt_lose_mean\n",
    "\n",
    "\n",
    "def main():\n",
    "    # Create features\n",
    "    f1 = Feature('test', f1_func, key='value')\n",
    "    f2 = Feature('test_again', f2_func)\n",
    "    f4 = Feature('score', f4_func)\n",
    "    f5 = Feature('turnover', f5_func)\n",
    "    f3 = Feature('omg', f3_func)\n",
    "\n",
    "    # Create model\n",
    "    m = Model('base', [f1, f2, f3], \"LogisticRegression\")\n",
    "\n",
    "    # Create trainer and run\n",
    "    t = Trainer(m)\n",
    "    result = t.run()\n",
    "    return result\n",
    "    #import pdb; pdb.set_trace()\n",
    "\n",
    "\n",
    "if __name__ == '__main__':\n",
    "    main()"
   ]
  },
  {
   "cell_type": "code",
   "execution_count": 14,
   "metadata": {},
   "outputs": [
    {
     "name": "stderr",
     "output_type": "stream",
     "text": [
      "../classes/data_manager.py:52: UserWarning: Boolean Series key will be reindexed to match DataFrame index.\n",
      "  reg.Lteam == team.team_id)]\n"
     ]
    },
    {
     "name": "stdout",
     "output_type": "stream",
     "text": [
      "             precision    recall  f1-score   support\n",
      "\n",
      "          0       0.65      0.56      0.60       149\n",
      "          1       0.58      0.68      0.63       137\n",
      "\n",
      "avg / total       0.62      0.62      0.61       286\n",
      "\n"
     ]
    }
   ],
   "source": [
    "print(main())"
   ]
  },
  {
   "cell_type": "code",
   "execution_count": 16,
   "metadata": {},
   "outputs": [
    {
     "name": "stderr",
     "output_type": "stream",
     "text": [
      "../classes/data_manager.py:52: UserWarning: Boolean Series key will be reindexed to match DataFrame index.\n",
      "  reg.Lteam == team.team_id)]\n",
      "../classes/data_manager.py:52: UserWarning: Boolean Series key will be reindexed to match DataFrame index.\n",
      "  reg.Lteam == team.team_id)]\n"
     ]
    },
    {
     "name": "stdout",
     "output_type": "stream",
     "text": [
      "             precision    recall  f1-score   support\n",
      "\n",
      "          0       0.62      0.59      0.60       149\n",
      "          1       0.58      0.61      0.59       137\n",
      "\n",
      "avg / total       0.60      0.60      0.60       286\n",
      "\n"
     ]
    }
   ],
   "source": [
    "\"\"\"Simple test script.\n",
    "\"\"\"\n",
    "\n",
    "import sys\n",
    "sys.path.append('..')\n",
    "\n",
    "from classes import *\n",
    "\n",
    "\n",
    "def f1_func(dm, team, context, **kwargs):\n",
    "    # Filter\n",
    "    filt = dm.get_team_in_season(context.season, team)\n",
    "\n",
    "    # Return std score\n",
    "    return filt['or'].std()\n",
    "\n",
    "\n",
    "def f2_func(dm, team, context, **kwargs):\n",
    "    # Filter\n",
    "    filt = dm.get_team_in_season(context.season, team)\n",
    "\n",
    "    # Return mean fta\n",
    "    return filt['fgm'].mean()\n",
    "\n",
    "def f4_func(dm, team, context, **kwargs):\n",
    "    # Filter\n",
    "    filt = dm.get_team_in_season(context.season, team)\n",
    "\n",
    "    # Return mean fta\n",
    "    return filt['score'].mean()\n",
    "\n",
    "def f5_func(dm, team, context, **kwargs):\n",
    "    # Filter\n",
    "    filt = dm.get_team_in_season(context.season, team)\n",
    "\n",
    "    # Return mean fta\n",
    "    return filt['to'].mean()\n",
    "\n",
    "\n",
    "\n",
    "def f7_func(dm, team, context, **kwargs):\n",
    "    # Filter\n",
    "    filt = dm.get_team_in_season(context.season, team)\n",
    "\n",
    "    # Return mean fta\n",
    "    return filt['team'].mean()\n",
    "\n",
    "def f8_func(dm, team, context, **kwargs):\n",
    "    # Filter\n",
    "    filt = dm.get_team_in_season(context.season, team)\n",
    "\n",
    "    # Return mean fta\n",
    "    return filt['fgm'].mean()\n",
    "\n",
    "def f9_func(dm, team, context, **kwargs):\n",
    "    # Filter\n",
    "    filt = dm.get_team_in_season(context.season, team)\n",
    "\n",
    "    # Return mean fta\n",
    "    return filt['fga'].mean()\n",
    "\n",
    "def f10_func(dm, team, context, **kwargs):\n",
    "    # Filter\n",
    "    filt = dm.get_team_in_season(context.season, team)\n",
    "\n",
    "    # Return mean fta\n",
    "    return filt['fgm3'].mean()\n",
    "\n",
    "def f11_func(dm, team, context, **kwargs):\n",
    "    # Filter\n",
    "    filt = dm.get_team_in_season(context.season, team)\n",
    "\n",
    "    # Return mean fta\n",
    "    return filt['fga3'].mean()\n",
    "\n",
    "def f12_func(dm, team, context, **kwargs):\n",
    "    # Filter\n",
    "    filt = dm.get_team_in_season(context.season, team)\n",
    "\n",
    "    # Return mean fta\n",
    "    return filt['ftm'].mean()\n",
    "\n",
    "def f13_func(dm, team, context, **kwargs):\n",
    "    # Filter\n",
    "    filt = dm.get_team_in_season(context.season, team)\n",
    "\n",
    "    # Return mean fta\n",
    "    return filt['fta'].mean()\n",
    "\n",
    "def f14_func(dm, team, context, **kwargs):\n",
    "    # Filter\n",
    "    filt = dm.get_team_in_season(context.season, team)\n",
    "\n",
    "    # Return mean fta\n",
    "    return filt['dr'].mean()\n",
    "\n",
    "def f15_func(dm, team, context, **kwargs):\n",
    "    # Filter\n",
    "    filt = dm.get_team_in_season(context.season, team)\n",
    "\n",
    "    # Return mean fta\n",
    "    return filt['ast'].mean()\n",
    "\n",
    "def f16_func(dm, team, context, **kwargs):\n",
    "    # Filter\n",
    "    filt = dm.get_team_in_season(context.season, team)\n",
    "\n",
    "    # Return mean fta\n",
    "    return filt['stl'].mean()\n",
    "\n",
    "def f17_func(dm, team, context, **kwargs):\n",
    "    # Filter\n",
    "    filt = dm.get_team_in_season(context.season, team)\n",
    "\n",
    "    # Return mean fta\n",
    "    return filt['blk'].mean()\n",
    "\n",
    "def f18_func(dm, team, context, **kwargs):\n",
    "    # Filter\n",
    "    filt = dm.get_team_in_season(context.season, team)\n",
    "\n",
    "    # Return mean fta\n",
    "    return filt['pf'].mean()\n",
    "\n",
    "def f3_func(dm, team, context, **kwargs):\n",
    "    # Get the other team\n",
    "    me = team.team_id\n",
    "    other = context.other.team_id\n",
    "\n",
    "    # Get all games where these 2 teams have played\n",
    "    reg = dm.data.reg\n",
    "    filt = reg[((reg.Wteam == me) & (reg.Lteam == other)) |\n",
    "               ((reg.Lteam == me) & (reg.Wteam == other))]\n",
    "\n",
    "    if filt.shape[0] == 0:\n",
    "        return 0\n",
    "\n",
    "    filt_win = filt[filt.Wteam == me]\n",
    "    filt_win_mean = 0 if filt_win.shape[0] == 0 else filt_win['Wscore'].mean()\n",
    "\n",
    "    filt_lose = filt[filt.Lteam == me]\n",
    "    filt_lose_mean = 0 if filt_lose.shape[0] == 0 else filt_lose['Lscore'].mean()\n",
    "\n",
    "    return filt_win_mean - filt_lose_mean\n",
    "\n",
    "\n",
    "def main():\n",
    "    # Create features\n",
    "    f1 = Feature('test', f1_func, key='value')\n",
    "    f2 = Feature('test_again', f2_func)\n",
    "    f4 = Feature('score', f4_func)\n",
    "    f5 = Feature('turnover', f5_func)\n",
    "    f3 = Feature('omg', f3_func)\n",
    "    f7 = Feature('team', f7_func)\n",
    "    f8 = Feature('fgm', f8_func)\n",
    "    f9 = Feature('fga', f9_func)\n",
    "    f10 = Feature('fgm3', f10_func)\n",
    "    f11 = Feature('fga3', f11_func)\n",
    "    f12 = Feature('ftm', f12_func)\n",
    "    f13 = Feature('fta', f13_func)\n",
    "    f14 = Feature('dr', f14_func)\n",
    "    f15 = Feature('ast', f15_func)\n",
    "    f16 = Feature('stl', f16_func)\n",
    "    f17 = Feature('blk', f17_func)\n",
    "    f18 = Feature('pf', f18_func)\n",
    "\n",
    "    # Create model\n",
    "    m = Model('base', [f1, f2, f3,f4,f5,f7,f8,f9,f10,f11,f12,f13,f14,f15,f16,f17,f18], \"RandomForestClassifier\")\n",
    "\n",
    "    # Create trainer and run\n",
    "    t = Trainer(m)\n",
    "    result = t.run()\n",
    "    return result\n",
    "    #import pdb; pdb.set_trace()\n",
    "\n",
    "\n",
    "if __name__ == '__main__':\n",
    "    main()\n",
    "    \n",
    "print(main())"
   ]
  },
  {
   "cell_type": "code",
   "execution_count": null,
   "metadata": {
    "collapsed": true
   },
   "outputs": [],
   "source": []
  }
 ],
 "metadata": {
  "kernelspec": {
   "display_name": "Python 3",
   "language": "python",
   "name": "python3"
  },
  "language_info": {
   "codemirror_mode": {
    "name": "ipython",
    "version": 3
   },
   "file_extension": ".py",
   "mimetype": "text/x-python",
   "name": "python",
   "nbconvert_exporter": "python",
   "pygments_lexer": "ipython3",
   "version": "3.6.1"
  }
 },
 "nbformat": 4,
 "nbformat_minor": 2
}
