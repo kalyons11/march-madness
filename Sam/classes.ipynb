{
 "cells": [
  {
   "cell_type": "markdown",
   "metadata": {
    "toc": true
   },
   "source": [
    "<h1>Table of Contents<span class=\"tocSkip\"></span></h1>\n",
    "<div class=\"toc\" style=\"margin-top: 1em;\"><ul class=\"toc-item\"></ul></div>"
   ]
  },
  {
   "cell_type": "markdown",
   "metadata": {},
   "source": [
    "Classes we will use for project."
   ]
  },
  {
   "cell_type": "code",
   "execution_count": 379,
   "metadata": {
    "collapsed": true
   },
   "outputs": [],
   "source": [
    "from collections import namedtuple\n",
    "from os.path import join as path_join\n",
    "\n",
    "import numpy as np\n",
    "import pandas as pd\n",
    "from sklearn.linear_model import LogisticRegression\n",
    "from sklearn.model_selection import train_test_split"
   ]
  },
  {
   "cell_type": "code",
   "execution_count": 380,
   "metadata": {
    "collapsed": true
   },
   "outputs": [],
   "source": [
    "class Config:\n",
    "    \"\"\"Key configurations for the project.\"\"\"\n",
    "    TEAMS_FNAME   = 'teams.csv'\n",
    "    REG_FNAME     = 'RegularSeasonDetailedResults.csv'\n",
    "    TOURNEY_FNAME = 'TourneyDetailedResults.csv'\n",
    "    SEEDS_FNAME   = 'TourneySeeds.csv'\n",
    "    SLOTS_FNAME   = 'TourneySlots.csv'\n",
    "    \n",
    "    DEFAULT_DATA_DIR = '../data/'\n",
    "    \n",
    "    PREDICTION_COLUMNS = ['game_id', 'Prediction']"
   ]
  },
  {
   "cell_type": "code",
   "execution_count": 381,
   "metadata": {
    "collapsed": true
   },
   "outputs": [],
   "source": [
    "class Team:\n",
    "    \"\"\"Immutable notion of a team.\"\"\"\n",
    "    def __init__(self, team_id, dm):\n",
    "        \"\"\"\n",
    "        team_id: id of this team from teams.csv file\n",
    "        dm: DataManager from which this team comes from\n",
    "        \"\"\"\n",
    "        self.team_id = team_id\n",
    "        self.dm = dm\n",
    "    \n",
    "    @property\n",
    "    def name(self):\n",
    "        return None\n",
    "    \n",
    "    def __str__(self):\n",
    "        return str(self.team_id)\n",
    "    \n",
    "    def __repr__(self):\n",
    "        return str(self.team_id)"
   ]
  },
  {
   "cell_type": "code",
   "execution_count": 382,
   "metadata": {
    "collapsed": true
   },
   "outputs": [],
   "source": [
    "class Season:\n",
    "    \"\"\"Immutable notion of a season of college basketball.\"\"\"\n",
    "    def __init__(self, yr):\n",
    "        \"\"\"yr: year that this season represents\"\"\"\n",
    "        self.yr = yr"
   ]
  },
  {
   "cell_type": "code",
   "execution_count": 383,
   "metadata": {
    "collapsed": true
   },
   "outputs": [],
   "source": [
    "class Data:\n",
    "    \"\"\"Immutable data obejct storing all data about tournaments, for all years\"\"\"\n",
    "    def __init__(self, teams, reg, tourney, seeds, slots, **kwargs):\n",
    "        self.teams = teams\n",
    "        self.reg = reg\n",
    "        self.tourney = tourney\n",
    "        self.seeds = seeds\n",
    "        self.slots = slots\n",
    "        self.kwargs = kwargs if kwargs is not None else {}"
   ]
  },
  {
   "cell_type": "code",
   "execution_count": 384,
   "metadata": {
    "collapsed": true
   },
   "outputs": [],
   "source": [
    "TourneyResult = namedtuple('TourneyResult', ['winner', 'loser', 'season'])"
   ]
  },
  {
   "cell_type": "code",
   "execution_count": 385,
   "metadata": {
    "collapsed": true
   },
   "outputs": [],
   "source": [
    "class DataManager:\n",
    "    \"\"\"Immutable loader that can load data from directory and query on specific fields.\"\"\"\n",
    "    def __init__(self, data_dir=Config.DEFAULT_DATA_DIR):\n",
    "        \"\"\"data_dir: path to dir with all the csv's we need\"\"\"\n",
    "        self.data_dir = data_dir\n",
    "        self._data = None # full dataframe\n",
    "    \n",
    "    @property\n",
    "    def data(self):\n",
    "        \"\"\"get the full dataframe for this loader\"\"\"\n",
    "        if self._data is None:\n",
    "            self._data = self.load()\n",
    "        return self._data\n",
    "    \n",
    "    def load(self):\n",
    "        \"\"\"loads data into local memory for later use\"\"\"\n",
    "        teams   = pd.read_csv(path_join(self.data_dir, Config.TEAMS_FNAME))\n",
    "        reg     = pd.read_csv(path_join(self.data_dir, Config.REG_FNAME))\n",
    "        tourney = pd.read_csv(path_join(self.data_dir, Config.TOURNEY_FNAME))\n",
    "        seeds   = pd.read_csv(path_join(self.data_dir, Config.SEEDS_FNAME))\n",
    "        slots   = pd.read_csv(path_join(self.data_dir, Config.SLOTS_FNAME))\n",
    "        return Data(teams, reg, tourney, seeds, slots, key='value')\n",
    "    \n",
    "    # QUERIES\n",
    "    \n",
    "    def get_teams_in_season(self, season):\n",
    "        reg = self.data.reg\n",
    "        reg_season = reg[reg.Season == season.yr]\n",
    "        reg_season_teams_winners = reg_season.Wteam.unique()\n",
    "        reg_season_teams_losers = reg_season.Lteam.unique()\n",
    "        reg_season_teams_all = np.union1d(reg_season_teams_winners, reg_season_teams_losers)\n",
    "        return map(lambda t: Team(t, self), reg_season_teams_all)\n",
    "    \n",
    "    def get_team_in_season(self, season, team):\n",
    "        reg = self.data.reg\n",
    "        reg_season = reg[reg.Season == season.yr]\n",
    "        reg_season_team = reg_season[(reg.Wteam == team.team_id) | (reg.Lteam == team.team_id)]\n",
    "        return self.team_win_lose_score_helper(reg_season_team, team)\n",
    "    \n",
    "    def get_training_data(self):\n",
    "        \"\"\"\n",
    "        gets all data for a model to train on\n",
    "        need to iterate over all tourney games we have and give TourneyResults\n",
    "        \"\"\"\n",
    "        tourney = self.data.tourney\n",
    "        result = []\n",
    "        for _, row in tourney.iterrows():\n",
    "            winner = Team(row.Wteam, self)\n",
    "            loser = Team(row.Lteam, self)\n",
    "            season = Season(row.Season)\n",
    "            result.append(TourneyResult(winner=winner, loser=loser, season=season))\n",
    "        return result\n",
    "    \n",
    "    # HELPERS\n",
    "    \n",
    "    def team_win_lose_score_helper(self, df, team):\n",
    "        \"\"\"\n",
    "        df: filtered on team and year\n",
    "        team: team object\n",
    "        returns: updated df with removing 'W'/'L' from relevant stats\n",
    "        \"\"\"\n",
    "        rename_cols = {\n",
    "            'team', 'score', 'fgm', 'fga', 'fgm3', 'fga3', 'ftm', 'fta', 'or', 'dr', 'ast', 'to', 'stl', 'blk', 'pf'\n",
    "        }\n",
    "        \n",
    "        def get_rename_dict(mode):\n",
    "            \"\"\"\n",
    "            mode: string 'W' or 'L'\n",
    "            \"\"\"\n",
    "            result = {}\n",
    "            for col in rename_cols:\n",
    "                result[mode + col] = col\n",
    "            # Extra cols\n",
    "            result['Season'] = 'season'\n",
    "            return result\n",
    "        \n",
    "        def internal_update_func(row):\n",
    "            \"\"\"\n",
    "            row: row of table we want to update\n",
    "            \"\"\"\n",
    "            if row.Wteam == team.team_id:\n",
    "                # Must add W to everything in rename cols\n",
    "                rename_dict = get_rename_dict('W')\n",
    "            else:\n",
    "                # Must add L to everything in rename cols\n",
    "                rename_dict = get_rename_dict('L')\n",
    "\n",
    "            # Select subset\n",
    "            subset = row[rename_dict.keys()]\n",
    "            \n",
    "            return subset.rename(rename_dict)\n",
    "\n",
    "        return df.apply(internal_update_func, axis=1)"
   ]
  },
  {
   "cell_type": "code",
   "execution_count": 386,
   "metadata": {
    "collapsed": true
   },
   "outputs": [],
   "source": [
    "class Model:\n",
    "    \"\"\"Represents one of our models.\"\"\"\n",
    "    def __init__(self, name, features):\n",
    "        \"\"\"\n",
    "        name: name of this model, for debugging purposes\n",
    "        features: list[Feature] for this model\n",
    "        \"\"\"\n",
    "        self.name = name\n",
    "        self.features = features\n",
    "        self._sklearn_model = None\n",
    "    \n",
    "    @property\n",
    "    def sklearn_model(self):\n",
    "        if self._sklearn_model is None:\n",
    "            #if self.name == 'default_linear':\n",
    "            self._sklearn_model = LogisticRegression()\n",
    "        return self._sklearn_model\n",
    "    \n",
    "    @classmethod\n",
    "    def default(cls):\n",
    "        return cls('default_linear', [Feature('ppg', lambda df: df['score'].mean())])\n",
    "    \n",
    "    def get_vector(self, season, team, dm):\n",
    "        \"\"\"\n",
    "        season: Season object\n",
    "        team: Team object\n",
    "        dm: DataManager\n",
    "        returns: FeatureVector filtered on season and team, aggregated accordingly\n",
    "        \"\"\"\n",
    "        filt = dm.get_team_in_season(season, team)\n",
    "        # compute each feature and append to result dict\n",
    "        result = {}\n",
    "        for f in self.features:\n",
    "            result[f] = f.compute(filt)\n",
    "        return FeatureVector(result)\n",
    "    \n",
    "    def get_X_y(self, trainer):\n",
    "        X, y = [], []\n",
    "        # X is list of FeatureVector\n",
    "        # y is 1/0 values\n",
    "        data_raw = trainer.dm.get_training_data()\n",
    "        for result in data_raw:\n",
    "            vect_a = self.get_vector(result.season, result.winner, trainer.dm)\n",
    "            vect_b = self.get_vector(result.season, result.loser, trainer.dm)\n",
    "            \n",
    "            vect_combo_a = self.combine_vectors(vect_a, vect_b)\n",
    "            X.append(vect_combo_a.to_list())\n",
    "            y.append(1)\n",
    "            \n",
    "            vect_combo_b = self.combine_vectors(vect_b, vect_a)\n",
    "            X.append(vect_combo_b.to_list())\n",
    "            y.append(0)\n",
    "        return np.array(X), np.array(y)\n",
    "    \n",
    "    def train(self, trainer):\n",
    "        # Need to do the following:\n",
    "        # 1. Parse data\n",
    "        X, y = self.get_X_y(trainer)\n",
    "        # 2. Split data\n",
    "        X_train, X_test, y_train, y_test = train_test_split(X, y, test_size=0.2, random_state=42)\n",
    "        # 3. Fit on training\n",
    "        self.sklearn_model.fit(X_train, y_train)\n",
    "        # 3. Evaluate on testing\n",
    "        # 4. Return evaluation result\n",
    "        return self.sklearn_model.score(X_test, y_test)\n",
    "    \n",
    "    def predict(self, a, b, runner):\n",
    "        \"\"\"\n",
    "        a: Team a\n",
    "        b: Team b\n",
    "        runner: runner calling me\n",
    "        returns: output in [0, 1] range, P(a)\n",
    "        \"\"\"\n",
    "        vect_a = self.get_vector(runner.season, a, runner.dm)\n",
    "        vect_b = self.get_vector(runner.season, b, runner.dm)\n",
    "        vect_combo = self.combine_vectors(vect_a, vect_b)\n",
    "    \n",
    "    def combine_vectors(self, a, b):\n",
    "        \"\"\"\n",
    "        a, b: FeatureVector's\n",
    "        returns: combination of a and b\n",
    "        \"\"\"\n",
    "        return a - b"
   ]
  },
  {
   "cell_type": "code",
   "execution_count": 387,
   "metadata": {
    "collapsed": true
   },
   "outputs": [],
   "source": [
    "class Feature:\n",
    "    \"\"\"Represents a particular entry in a team vector. Computed on a team in a given season.\"\"\"\n",
    "    def __init__(self, name, compute_func, **kwargs):\n",
    "        \"\"\"\n",
    "        name: string of name describing this feature\n",
    "        compute_func: df (team, season) -> numeric value\n",
    "        \"\"\"\n",
    "        self.name = name\n",
    "        self.func = compute_func\n",
    "        self.kwargs = kwargs if kwargs is not None else {}\n",
    "    \n",
    "    def compute(self, df):\n",
    "        return self.func(df, **self.kwargs)\n",
    "    \n",
    "    def __str__(self):\n",
    "        return self.name\n",
    "    \n",
    "    def __repr__(self):\n",
    "        return self.name"
   ]
  },
  {
   "cell_type": "code",
   "execution_count": 388,
   "metadata": {
    "collapsed": true
   },
   "outputs": [],
   "source": [
    "class FeatureVector:\n",
    "    \"\"\"Represents a vector of features. Immutable.\"\"\"\n",
    "    def __init__(self, feature_dict):\n",
    "        \"\"\"feature_dict: dict[Feature -> numeric]\"\"\"\n",
    "        self.feature_dict = feature_dict\n",
    "        \n",
    "    def __getitem__(self, k):\n",
    "        return self.feature_dict[k]\n",
    "    \n",
    "    def __str__(self):\n",
    "        return str(self.feature_dict)\n",
    "    \n",
    "    def __sub__(self, other):\n",
    "        \"\"\"computes self - other\"\"\"\n",
    "        final = {}\n",
    "        for k in self.feature_dict:\n",
    "            final[k] = self[k] - other[k]\n",
    "        return FeatureVector(final)\n",
    "    \n",
    "    def to_list(self):\n",
    "        \"\"\"uses sorted key order so it is deterministic\"\"\"\n",
    "        result = []\n",
    "        for k in sorted(self.feature_dict, key = lambda f: f.name):\n",
    "            result.append(self[k])\n",
    "        return result"
   ]
  },
  {
   "cell_type": "code",
   "execution_count": 389,
   "metadata": {
    "collapsed": true
   },
   "outputs": [],
   "source": [
    "class Trainer:\n",
    "    \"\"\"Trains a model.\"\"\"\n",
    "    def __init__(self, model, dm=None):\n",
    "        self.model = model\n",
    "        self.dm = dm if dm is not None else DataManager()\n",
    "    \n",
    "    def run(self):\n",
    "        \"\"\"trains and returns eval result\"\"\"\n",
    "        return self.model.train(self)"
   ]
  },
  {
   "cell_type": "code",
   "execution_count": 390,
   "metadata": {
    "collapsed": true
   },
   "outputs": [],
   "source": [
    "class Runner:\n",
    "    \"\"\"Main class that will be used to get predictions for a particular year.\"\"\"\n",
    "    def __init__(self, season, model, dm=None):\n",
    "        \"\"\"\n",
    "        season: Season object we want to run on\n",
    "        model: Model object being used to make the predictions for this run\n",
    "        dm: DataManager\n",
    "        \"\"\"\n",
    "        self.season = season\n",
    "        self.model = model\n",
    "        self.dm = dm if dm is not None else DataManager()\n",
    "    \n",
    "    def run(self):\n",
    "        \"\"\"Generates all predictions for this season\"\"\"\n",
    "        # Create result\n",
    "        result = pd.DataFrame(columns=Config.PREDICTION_COLUMNS)\n",
    "        # Get all teams in this season\n",
    "        teams = self.dm.get_teams_in_season(self.season)\n",
    "        # Iterate over all pairs\n",
    "        for a in teams:\n",
    "            for b in teams:\n",
    "                if a != b:\n",
    "                    game_id = self.get_game_id(a, b)\n",
    "                    prediction = self.run_pair(a, b)\n",
    "                    result = result.append({\n",
    "                        result.columns[0]: game_id,\n",
    "                        result.columns[1]: prediction\n",
    "                    }, ignore_index=True)\n",
    "                    break\n",
    "            break\n",
    "        return result\n",
    "    \n",
    "    def run_pair(self, a, b):\n",
    "        \"\"\"\n",
    "        a: first team\n",
    "        b: second team\n",
    "        returns: 1 if a wins, 0 else\n",
    "        \"\"\"\n",
    "        return self.model.predict(a, b, self)\n",
    "    \n",
    "    def get_game_id(self, a, b):\n",
    "        return str(self.season.yr) + '_' + str(a.team_id) + '_' + str(b.team_id)"
   ]
  },
  {
   "cell_type": "code",
   "execution_count": 391,
   "metadata": {
    "collapsed": true
   },
   "outputs": [],
   "source": [
    "class Main:\n",
    "    \"\"\"Immutable class we will call main() on to run the project.\"\"\"\n",
    "    \n",
    "    @classmethod\n",
    "    def main(self):\n",
    "        \"\"\"Runs runners on each season that we need to. Returns dataframe with predictions.\"\"\"\n",
    "        result = pd.DataFrame()\n",
    "        for season in [2011, 2012, 2013]:\n",
    "            r = Runner(Season(season), Model.default())\n",
    "            current = r.run()\n",
    "            result = result.append(current)\n",
    "            break\n",
    "        return result"
   ]
  },
  {
   "cell_type": "code",
   "execution_count": 392,
   "metadata": {},
   "outputs": [
    {
     "name": "stderr",
     "output_type": "stream",
     "text": [
      "C:\\Users\\scant\\Anaconda3\\lib\\site-packages\\ipykernel_launcher.py:37: UserWarning: Boolean Series key will be reindexed to match DataFrame index.\n"
     ]
    }
   ],
   "source": [
    "out = Main.main()"
   ]
  },
  {
   "cell_type": "code",
   "execution_count": 393,
   "metadata": {
    "collapsed": true
   },
   "outputs": [],
   "source": [
    "t = Trainer(Model.default())"
   ]
  },
  {
   "cell_type": "code",
   "execution_count": 394,
   "metadata": {
    "scrolled": true
   },
   "outputs": [
    {
     "name": "stdout",
     "output_type": "stream",
     "text": [
      "          game_id Prediction\n",
      "0  2011_1102_1103       None\n"
     ]
    }
   ],
   "source": [
    "print(out)"
   ]
  },
  {
   "cell_type": "code",
   "execution_count": 395,
   "metadata": {},
   "outputs": [],
   "source": [
    "t_new = Trainer(Model('base_model', [\n",
    "    #Feature('FGP', lambda df: (df['fgm']/df['fga']).mean()),\n",
    "    Feature('blocks', lambda df: df['blk'].mean()), # function that takes a dataframe and returns the value you want out of it\n",
    "    #Feature('assists', lambda df: df['ast'].mean()),\n",
    "    Feature('OR', lambda df: df['or'].mean()),\n",
    "    #Feature('DR', lambda df: df['dr'].mean()),\n",
    "    #Feature('turnovers', lambda df: df['to'].mean()),\n",
    "    #Feature('3PP', lambda df: (df['fgm3']/df['fga3']).mean()),\n",
    "    Feature('3PM', lambda df: df['fgm3'].mean()),\n",
    "    #Feature('FTP', lambda df: (df['ftm']/df['fta']).mean()),\n",
    "    Feature('steals', lambda df: df['stl'].mean()),\n",
    "    Feature('ppg', lambda df: df['score'].mean()),\n",
    "    #Feature('fouls', lambda df: df['pf'].mean())\n",
    "    \n",
    "]))"
   ]
  },
  {
   "cell_type": "code",
   "execution_count": 396,
   "metadata": {},
   "outputs": [
    {
     "name": "stderr",
     "output_type": "stream",
     "text": [
      "C:\\Users\\scant\\Anaconda3\\lib\\site-packages\\ipykernel_launcher.py:37: UserWarning: Boolean Series key will be reindexed to match DataFrame index.\n"
     ]
    },
    {
     "data": {
      "text/plain": [
       "0.58391608391608396"
      ]
     },
     "execution_count": 396,
     "metadata": {},
     "output_type": "execute_result"
    }
   ],
   "source": [
    "t_new.run()"
   ]
  },
  {
   "cell_type": "code",
   "execution_count": null,
   "metadata": {
    "collapsed": true
   },
   "outputs": [],
   "source": []
  },
  {
   "cell_type": "code",
   "execution_count": null,
   "metadata": {
    "collapsed": true
   },
   "outputs": [],
   "source": []
  }
 ],
 "metadata": {
  "kernelspec": {
   "display_name": "Python 3",
   "language": "python",
   "name": "python3"
  },
  "language_info": {
   "codemirror_mode": {
    "name": "ipython",
    "version": 3
   },
   "file_extension": ".py",
   "mimetype": "text/x-python",
   "name": "python",
   "nbconvert_exporter": "python",
   "pygments_lexer": "ipython3",
   "version": "3.6.3"
  },
  "toc": {
   "nav_menu": {},
   "number_sections": true,
   "sideBar": true,
   "skip_h1_title": false,
   "toc_cell": true,
   "toc_position": {},
   "toc_section_display": "block",
   "toc_window_display": false
  }
 },
 "nbformat": 4,
 "nbformat_minor": 2
}
